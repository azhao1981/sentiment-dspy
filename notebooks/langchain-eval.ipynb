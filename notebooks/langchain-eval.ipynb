{
 "cells": [
  {
   "cell_type": "code",
   "execution_count": 4,
   "metadata": {},
   "outputs": [
    {
     "data": {
      "text/plain": [
       "True"
      ]
     },
     "execution_count": 4,
     "metadata": {},
     "output_type": "execute_result"
    }
   ],
   "source": [
    "from dotenv import find_dotenv, load_dotenv\n",
    "\n",
    "load_dotenv(find_dotenv(), override=True)"
   ]
  },
  {
   "cell_type": "code",
   "execution_count": 5,
   "metadata": {},
   "outputs": [],
   "source": [
    "import os\n",
    "\n",
    "api_key = os.getenv(\"ONEAPI_API_KEY\")\n",
    "base_url = os.getenv(\"ONEAPI_BASE_URL\")\n",
    "\n",
    "model_name = \"glm-4-flash\""
   ]
  },
  {
   "cell_type": "code",
   "execution_count": 6,
   "metadata": {},
   "outputs": [
    {
     "name": "stdout",
     "output_type": "stream",
     "text": [
      "我是一个名为 ChatGLM 的人工智能助手，是基于清华大学 KEG 实验室和智谱 AI 公司于 2024 年共同训练的语言模型开发的。我的任务是针对用户的问题和要求提供适当的答复和支持。\n"
     ]
    }
   ],
   "source": [
    "from langchain_openai import ChatOpenAI\n",
    "\n",
    "llm = ChatOpenAI(api_key=api_key, base_url=base_url, model_name=model_name)\n",
    "response = llm.invoke(\"你是谁\")\n",
    "print(response.content)"
   ]
  },
  {
   "cell_type": "code",
   "execution_count": 7,
   "metadata": {},
   "outputs": [],
   "source": [
    "simples = \"\"\"\n",
    "正面    医院专家什么接受\n",
    "正面    您现在是已经登录成功了么\n",
    "正面    晚点会有专员处理的呢亲\n",
    "正面    嗯嗯你说吃水果我刚吃了一个苹果\n",
    "正面    最开始上传资料就是这个颜色\n",
    "正面    还有新用户抽奖领红包\n",
    "正面    友友是您说话有回音嘛\n",
    "正面    好的会帮您加急的呢\n",
    "正面    刚试了一下验证码登录\n",
    "正面    怎么获取答题卷\n",
    "负面    不是1件8折吗\n",
    "负面    哦我知道叔叔不在了\n",
    "负面    那不是从你们那的\n",
    "负面    你看看有没有其他的因为我有时候用两个\n",
    "负面    但是我还是归还进去了\n",
    "负面    咱们大六个行不行吧\n",
    "负面    没有作废2000的\n",
    "负面    具体时间客服这边还未接到相关通知\n",
    "负面    上午都提交了截图了还没解决\n",
    "负面    哦1900你承担不了哇说\n",
    "中性    跨版本不支持\n",
    "中性    哦哦哈哈哈哈哈哈\n",
    "中性    嗯嗯等找到那个差值后我给您留言\n",
    "中性    一点钟塔也有最迟两点钟\n",
    "中性    升级苹果手机版本到最新版本。\n",
    "中性    方案按住方向键的下键即可\n",
    "中性    哎是的是的是的\n",
    "中性    您好，话费一旦兑换成功，就无法取消了哦。\n",
    "中性    我现在大二入境的助听器\n",
    "中性    安装福昕阅读器解决\n",
    "\"\"\""
   ]
  },
  {
   "cell_type": "code",
   "execution_count": null,
   "metadata": {},
   "outputs": [],
   "source": [
    "samples = simples.split(\"\\n\")\n",
    "labels = []\n",
    "texts = []\n",
    "\n",
    "for line in samples:\n",
    "    if line == \"\":\n",
    "        continue\n",
    "    parts = line.split(\"    \", 1)\n",
    "    print(parts)\n",
    "    labels.append(parts[0])\n",
    "    texts.append(parts[1])\n",
    "print(texts)"
   ]
  },
  {
   "cell_type": "code",
   "execution_count": 10,
   "metadata": {},
   "outputs": [
    {
     "name": "stdout",
     "output_type": "stream",
     "text": [
      "```\n",
      "编号 情绪标签 原句\n",
      "1 中性 医院专家什么接受\n",
      "2 中性 您现在是已经登录成功了么\n",
      "3 中性 晚点会有专员处理的呢亲\n",
      "4 中性 嗯嗯你说吃水果我刚吃了一个苹果\n",
      "5 中性 最开始上传资料就是这个颜色\n",
      "6 中性 还有新用户抽奖领红包\n",
      "7 中性 友友是您说话有回音嘛\n",
      "8 中性 好的会帮您加急的呢\n",
      "9 中性 刚试了一下验证码登录\n",
      "10 中性 怎么获取答题卷\n",
      "11 中性 不是1件8折吗\n",
      "12 中性 哦我知道叔叔不在了\n",
      "13 中性 那不是从你们那的\n",
      "14 中性 你看看有没有其他的因为我有时候用两个\n",
      "15 中性 但是我还是归还进去了\n",
      "16 中性 咱们大六个行不行吧\n",
      "17 中性 没有作废2000的\n",
      "18 中性 具体时间客服这边还未接到相关通知\n",
      "19 中性 上午都提交了截图了还没解决\n",
      "20 中性 哦1900你承担不了哇说\n",
      "21 中性 跨版本不支持\n",
      "22 中性 哦哦哈哈哈哈哈哈\n",
      "23 中性 嗯嗯等找到那个差值后我给您留言\n",
      "24 中性 一点钟塔也有最迟两点钟\n",
      "25 中性 升级苹果手机版本到最新版本。\n",
      "26 中性 方案按住方向键的下键即可\n",
      "27 中性 哎是的是的是的\n",
      "28 中性 您好，话费一旦兑换成功，就无法取消了哦。\n",
      "29 中性 我现在大二入境的助听器\n",
      "30 中性 安装福昕阅读器解决\n",
      "```\n"
     ]
    }
   ],
   "source": [
    "prompt = \"对下面每一行，给出一个情绪标签，正面 中性或负面。返回格式是 `编号 情绪标签 原句`\\n```\\n\"\n",
    "for text in texts:\n",
    "    prompt += text + \"\\n\"\n",
    "prompt += \"```\"\n",
    "ret = llm.invoke(prompt)\n",
    "print(ret.content)"
   ]
  },
  {
   "cell_type": "code",
   "execution_count": 13,
   "metadata": {},
   "outputs": [
    {
     "name": "stdout",
     "output_type": "stream",
     "text": [
      "410 548\n"
     ]
    }
   ],
   "source": [
    "print(len(prompt), len(ret.content))\n",
    "# 410个字符，返回了 548 个字符，需要6S"
   ]
  },
  {
   "cell_type": "markdown",
   "metadata": {},
   "source": [
    "## 看多语言的支持如何\n",
    "\n",
    "印尼语\n",
    "越南语\n",
    "马来语\n",
    "菲律宾\n",
    "泰语\n",
    "柬埔寨语\n",
    "英语\n",
    "阿拉伯\n",
    "西班牙语\n",
    "葡萄牙语"
   ]
  },
  {
   "cell_type": "code",
   "execution_count": 14,
   "metadata": {},
   "outputs": [],
   "source": [
    "langs = \"\"\"印尼语\n",
    "越南语\n",
    "马来语\n",
    "菲律宾\n",
    "泰语\n",
    "柬埔寨语\n",
    "英语\n",
    "阿拉伯\n",
    "西班牙语\n",
    "葡萄牙语\"\"\""
   ]
  },
  {
   "cell_type": "code",
   "execution_count": 16,
   "metadata": {},
   "outputs": [
    {
     "name": "stdout",
     "output_type": "stream",
     "text": [
      "印尼语\n",
      "\" Halo, setelah transaksi top-up sukses, transaksi tersebut tidak dapat dibatalkan lagi ya.\"\n",
      "39 92\n",
      "越南语\n",
      "Xin chào, khi tiền điện thoại được đổi thành công, bạn sẽ không thể hủy lại được đâu nhé.\n",
      "39 89\n",
      "马来语\n",
      "\"Selamat datang, setelah pelunasan puluhan berjaya, ia tidak dapat dibatalkan lagi.\"\n",
      "39 84\n",
      "菲律宾\n",
      "您好， sa tingin nyo, kapag nagawa na ang pagbabahagdag ng bayad para sa tawag, hindi na ito puwedeng ibasura na.\n",
      "39 110\n",
      "泰语\n",
      "คุณสวัสดีครับ/ค่ะ หลังจากที่เปลี่ยนเป็นเงินโทรศัพท์สำเร็จแล้ว จะไม่สามารถยกเลิกได้นะครับ/ค่ะ\n",
      "38 92\n",
      "柬埔寨语\n",
      "សម្តេច បញ្ជាក់ថា នៅពេលដែលប្រាក់ទូរស័ព្ទត្រូវបានប្តូរជាសម្រេច វាមិនអាចលុបចោលបានឡើយ។\n",
      "40 82\n",
      "英语\n",
      "Hello, once the phone credit is successfully redeemed, it cannot be cancelled.\n",
      "38 78\n",
      "阿拉伯\n",
      "مرحباً، بمجرد استكمال عملية استبدال الرصيد، لن يكون من الممكن إلغاءها.\n",
      "39 70\n",
      "西班牙语\n",
      "```\n",
      "Hola, una vez que se haya completado el canje de saldo, no se podrá cancelar.\n",
      "```\n",
      "40 85\n",
      "葡萄牙语\n",
      "Olá, uma vez que o crédito de fones for convertido, não será possível cancelá-lo.\n",
      "40 81\n"
     ]
    }
   ],
   "source": [
    "langs_arr = langs.split(\"\\n\")\n",
    "for lang in langs_arr:\n",
    "    print(lang)\n",
    "    prompt = f\"请翻译这句话到{lang}\\n```\\n\"\n",
    "    prompt += \"您好，话费一旦兑换成功，就无法取消了哦。\\n\"\n",
    "    prompt += \"```\"\n",
    "    ret = llm.invoke(prompt)\n",
    "    print(ret.content)\n",
    "    print(len(prompt), len(ret.content))"
   ]
  }
 ],
 "metadata": {
  "kernelspec": {
   "display_name": "qa",
   "language": "python",
   "name": "python3"
  },
  "language_info": {
   "codemirror_mode": {
    "name": "ipython",
    "version": 3
   },
   "file_extension": ".py",
   "mimetype": "text/x-python",
   "name": "python",
   "nbconvert_exporter": "python",
   "pygments_lexer": "ipython3",
   "version": "3.11.9"
  }
 },
 "nbformat": 4,
 "nbformat_minor": 2
}
