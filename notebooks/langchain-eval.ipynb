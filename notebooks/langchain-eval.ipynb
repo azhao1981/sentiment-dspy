{
 "cells": [
  {
   "cell_type": "code",
   "execution_count": 1,
   "metadata": {},
   "outputs": [
    {
     "data": {
      "text/plain": [
       "True"
      ]
     },
     "execution_count": 1,
     "metadata": {},
     "output_type": "execute_result"
    }
   ],
   "source": [
    "from dotenv import find_dotenv, load_dotenv\n",
    "\n",
    "load_dotenv(find_dotenv(), override=True)"
   ]
  },
  {
   "cell_type": "code",
   "execution_count": 2,
   "metadata": {},
   "outputs": [],
   "source": [
    "import os\n",
    "\n",
    "api_key = os.getenv(\"ONEAPI_API_KEY\")\n",
    "base_url = os.getenv(\"ONEAPI_BASE_URL\")\n",
    "\n",
    "model_name = \"glm-4-flash\""
   ]
  },
  {
   "cell_type": "code",
   "execution_count": 3,
   "metadata": {},
   "outputs": [
    {
     "name": "stdout",
     "output_type": "stream",
     "text": [
      "我是一个名为 ChatGLM 的人工智能助手，是基于清华大学 KEG 实验室和智谱 AI 公司于 2024 年共同训练的语言模型开发的。我的任务是针对用户的问题和要求提供适当的答复和支持。\n"
     ]
    }
   ],
   "source": [
    "from langchain_openai import ChatOpenAI\n",
    "\n",
    "llm = ChatOpenAI(api_key=api_key, base_url=base_url, model_name=model_name)\n",
    "response = llm.invoke(\"你是谁\")\n",
    "print(response.content)"
   ]
  },
  {
   "cell_type": "code",
   "execution_count": 5,
   "metadata": {},
   "outputs": [
    {
     "name": "stdout",
     "output_type": "stream",
     "text": [
      "sentiment analysis from text\n",
      "\n",
      "---\n",
      "\n",
      "Follow the following format.\n",
      "\n",
      "Question: list of input text\n",
      "Reasoning: Let's think step by step in order to ${produce the answer}. We ...\n",
      "Answer: question 中每一个输入`text`的情绪分类和评分(0-1.0),格式如 惊讶,0.7 抱怨,0.9 情绪分类包括 ['中性', '惊讶', '感激', '抱怨', '焦急', '生气', '高兴']\n",
      "\n",
      "---\n",
      "\n",
      "Question: 谢谢您,新年快乐\n",
      "Reasoning: Let's think step by step in order to produce the answer. We will analyze the sentiment of the text by looking at the words and their connotations: 1. \"谢谢您\" - This phrase expresses gratitude, which is a positive sentiment. 2. \"新年快乐\" - This phrase is a traditional New Year's greeting that means \"Happy New Year,\" which is also a positive sentiment. Considering the positive connotations of both phrases, we can classify the sentiment as follows:\n",
      "Answer: 感激,0.9 高兴,0.8\n",
      "\n",
      "---\n",
      "\n",
      "Question: 吓死人啊\n",
      "Reasoning: Let's think step by step in order to produce the answer. We need to analyze the sentiment of the given text \"吓死人啊\" by considering the context and the words used. 1. The text contains the word \"吓死人\"，which is a common expression in Chinese to express surprise or shock. 2. The word \"吓\" means \"scare\" or \"frighten,\" and \"死人\" emphasizes the intensity of the shock. 3. Given the context and the words used, the sentiment expressed is likely to be '惊讶' (surprise).\n",
      "Answer: 惊讶,0.9\n",
      "\n",
      "---\n",
      "\n",
      "Question: 怎么这样呀\n",
      "Reasoning: Let's think step by step in order to produce the answer. We need to analyze the sentiment of the input text \"怎么这样呀\" which translates to \"How come like this?\" in English. This phrase can be interpreted as expressing surprise or confusion. 1. The phrase \"怎么这样呀\" is a colloquial expression in Chinese. 2. It is often used to express surprise or confusion when something unexpected or undesirable happens. 3. The word \"怎么\" (how) is used to seek an explanation or to express disbelief. 4. The word \"这样\" (like this) refers to the current situation or state of affairs. Given these points, the sentiment of the text can be classified as '惊讶' (surprise).\n",
      "Answer: 惊讶,0.8\n",
      "\n",
      "---\n",
      "\n",
      "Question: 哈哈哈哈哈哈哈哈哈哈哈哈哈哈哈哈哈哈哈哈哈哈呵呵呵呵哈哈哈哈哈哈哈哈哈哈哈哈哈哈哈哈哈哈哈哈哈哈哈哈哈哈哈哈哈哈哈哈哈哈哈哈哈哈哈哈哈哈哈哈哈哈哈哈哈哈哈哈哈哈哈哈哈哈哈哈哈哈哈哈哈哈哈哈哈哈哈哈哈哈哈哈哈哈哈哈哈哈哈哈哈哈哈哈\n",
      "Reasoning: Let's think step by step in order to produce the answer. We need to analyze the sentiment of the given text. The text is a long sequence of laughter and \"呵呵\" which is a casual way to express amusement or sarcasm in Chinese. The laughter indicates a positive emotional state, and the repetition of \"呵呵\" suggests a light-hearted or amused tone.\n",
      "Answer: 高兴,0.9 The text is predominantly expressing happiness, with a high intensity due to the repetition of laughter and \"呵呵.\" The sentiment is not extreme, as it does not convey a strong emotion like joy or excitement, but it is clearly positive.\n",
      "\n",
      "---\n",
      "\n",
      "Question:\n",
      "哦!我懂了好的谢谢\n",
      "好申请退款吗\n",
      "哈哈,好\n",
      "哈哈哈哈对耶\n",
      "杀毒软件没关\n",
      "那请问怎样才能退款?\n",
      "你自己输一下会死啊!我就不文明,咋地?\n",
      "我不干别的了?\n",
      "操你妈的狗比要吃爸爸多少钱才能有玩的意义\n",
      "感谢非常感谢\n",
      "我爱你燕子\n",
      "我定了个蛋糕,请问能不能今天不要,等疫情过了在要。现在情况特殊,今天我妈妈的生日,还是安全第一。她不想接触外面人,老太太年纪大了。\n",
      "好的,感谢,我没有其他问题了哈\n",
      "你说的不明不白\n",
      "好滴,谢谢哈,新年快乐哦\n",
      "嗯嗯。,认识你很高兴\n",
      "我们的劳动是白干活的\n",
      "请麻烦你在发一遍吧谢谢\n",
      "是啊哈哈哈\n",
      "我要投诉这个商家,多次刁难,最后迟迟不肯通过\n",
      "谢谢你那么耐心~\n",
      "你这什么服务半天不回信息\n",
      "好像遗漏了一张酒店的房卡在司机后座\n",
      "吓\n",
      "好的谢谢,再问一下我们这边还有好多人\n",
      "你们连做人的本质都没有\n",
      "真是要气死了\n",
      "您好孩所有信息都填写完后在线确认那里老在全部那里,想问一下怎样确认\n",
      "这两台一起帮设置下\n",
      "好的,麻烦你了。没有事了,谢谢\n",
      "流程还没走完?\n",
      "请暂停计费谢谢\n",
      "怎么就人为了?\n",
      "你好,下周的保洁服务帮我改到周四\n",
      "就回到搜索页面了\n",
      "付春波的票出了吗\n",
      "吓死人啊\n",
      "机器还老是出问题\n",
      "好的。谢谢。。\n",
      "买翻这个我更喜欢的\n",
      "哈哈哈哈可以的亲\n",
      "爱你爱你[emoji007]\n",
      "哦,明白了,谢谢您[emoji050]\n",
      "好呢,谢谢亲\n",
      "湖南能用???这个\n",
      "我看一下另一盒还有烂的\n",
      "剧本杀玩不了\n",
      "?服务真好\n",
      "我看下都吓我一跳\n",
      "弄好了,谢谢了\n",
      "Reasoning: Let's think step by step in order to\n"
     ]
    }
   ],
   "source": [
    "text = \"\"\"sentiment analysis from text\\n\\n---\\n\\nFollow the following format.\\n\\nQuestion: list of input text\\nReasoning: Let\\'s think step by step in order to ${produce the answer}. We ...\\nAnswer: question 中每一个输入`text`的情绪分类和评分(0-1.0),格式如 惊讶,0.7 抱怨,0.9 情绪分类包括 [\\'中性\\', \\'惊讶\\', \\'感激\\', \\'抱怨\\', \\'焦急\\', \\'生气\\', \\'高兴\\']\\n\\n---\\n\\nQuestion: 谢谢您,新年快乐\\nReasoning: Let\\'s think step by step in order to produce the answer. We will analyze the sentiment of the text by looking at the words and their connotations: 1. \"谢谢您\" - This phrase expresses gratitude, which is a positive sentiment. 2. \"新年快乐\" - This phrase is a traditional New Year\\'s greeting that means \"Happy New Year,\" which is also a positive sentiment. Considering the positive connotations of both phrases, we can classify the sentiment as follows:\\nAnswer: 感激,0.9 高兴,0.8\\n\\n---\\n\\nQuestion: 吓死人啊\\nReasoning: Let\\'s think step by step in order to produce the answer. We need to analyze the sentiment of the given text \"吓死人啊\" by considering the context and the words used. 1. The text contains the word \"吓死人\"，which is a common expression in Chinese to express surprise or shock. 2. The word \"吓\" means \"scare\" or \"frighten,\" and \"死人\" emphasizes the intensity of the shock. 3. Given the context and the words used, the sentiment expressed is likely to be \\'惊讶\\' (surprise).\\nAnswer: 惊讶,0.9\\n\\n---\\n\\nQuestion: 怎么这样呀\\nReasoning: Let\\'s think step by step in order to produce the answer. We need to analyze the sentiment of the input text \"怎么这样呀\" which translates to \"How come like this?\" in English. This phrase can be interpreted as expressing surprise or confusion. 1. The phrase \"怎么这样呀\" is a colloquial expression in Chinese. 2. It is often used to express surprise or confusion when something unexpected or undesirable happens. 3. The word \"怎么\" (how) is used to seek an explanation or to express disbelief. 4. The word \"这样\" (like this) refers to the current situation or state of affairs. Given these points, the sentiment of the text can be classified as \\'惊讶\\' (surprise).\\nAnswer: 惊讶,0.8\\n\\n---\\n\\nQuestion: 哈哈哈哈哈哈哈哈哈哈哈哈哈哈哈哈哈哈哈哈哈哈呵呵呵呵哈哈哈哈哈哈哈哈哈哈哈哈哈哈哈哈哈哈哈哈哈哈哈哈哈哈哈哈哈哈哈哈哈哈哈哈哈哈哈哈哈哈哈哈哈哈哈哈哈哈哈哈哈哈哈哈哈哈哈哈哈哈哈哈哈哈哈哈哈哈哈哈哈哈哈哈哈哈哈哈哈哈哈哈哈哈哈哈\\nReasoning: Let\\'s think step by step in order to produce the answer. We need to analyze the sentiment of the given text. The text is a long sequence of laughter and \"呵呵\" which is a casual way to express amusement or sarcasm in Chinese. The laughter indicates a positive emotional state, and the repetition of \"呵呵\" suggests a light-hearted or amused tone.\\nAnswer: 高兴,0.9 The text is predominantly expressing happiness, with a high intensity due to the repetition of laughter and \"呵呵.\" The sentiment is not extreme, as it does not convey a strong emotion like joy or excitement, but it is clearly positive.\\n\\n---\\n\\nQuestion:\\n哦!我懂了好的谢谢\\n好申请退款吗\\n哈哈,好\\n哈哈哈哈对耶\\n杀毒软件没关\\n那请问怎样才能退款?\\n你自己输一下会死啊!我就不文明,咋地?\\n我不干别的了?\\n操你妈的狗比要吃爸爸多少钱才能有玩的意义\\n感谢非常感谢\\n我爱你燕子\\n我定了个蛋糕,请问能不能今天不要,等疫情过了在要。现在情况特殊,今天我妈妈的生日,还是安全第一。她不想接触外面人,老太太年纪大了。\\n好的,感谢,我没有其他问题了哈\\n你说的不明不白\\n好滴,谢谢哈,新年快乐哦\\n嗯嗯。,认识你很高兴\\n我们的劳动是白干活的\\n请麻烦你在发一遍吧谢谢\\n是啊哈哈哈\\n我要投诉这个商家,多次刁难,最后迟迟不肯通过\\n谢谢你那么耐心~\\n你这什么服务半天不回信息\\n好像遗漏了一张酒店的房卡在司机后座\\n吓\\n好的谢谢,再问一下我们这边还有好多人\\n你们连做人的本质都没有\\n真是要气死了\\n您好孩所有信息都填写完后在线确认那里老在全部那里,想问一下怎样确认\\n这两台一起帮设置下\\n好的,麻烦你了。没有事了,谢谢\\n流程还没走完?\\n请暂停计费谢谢\\n怎么就人为了?\\n你好,下周的保洁服务帮我改到周四\\n就回到搜索页面了\\n付春波的票出了吗\\n吓死人啊\\n机器还老是出问题\\n好的。谢谢。。\\n买翻这个我更喜欢的\\n哈哈哈哈可以的亲\\n爱你爱你[emoji007]\\n哦,明白了,谢谢您[emoji050]\\n好呢,谢谢亲\\n湖南能用???这个\\n我看一下另一盒还有烂的\\n剧本杀玩不了\\n?服务真好\\n我看下都吓我一跳\\n弄好了,谢谢了\\nReasoning: Let\\'s think step by step in order to\"\"\"\n",
    "print(text)"
   ]
  },
  {
   "cell_type": "code",
   "execution_count": 7,
   "metadata": {},
   "outputs": [],
   "source": [
    "simples = \"\"\"\n",
    "正面    医院专家什么接受\n",
    "正面    您现在是已经登录成功了么\n",
    "正面    晚点会有专员处理的呢亲\n",
    "正面    嗯嗯你说吃水果我刚吃了一个苹果\n",
    "正面    最开始上传资料就是这个颜色\n",
    "正面    还有新用户抽奖领红包\n",
    "正面    友友是您说话有回音嘛\n",
    "正面    好的会帮您加急的呢\n",
    "正面    刚试了一下验证码登录\n",
    "正面    怎么获取答题卷\n",
    "负面    不是1件8折吗\n",
    "负面    哦我知道叔叔不在了\n",
    "负面    那不是从你们那的\n",
    "负面    你看看有没有其他的因为我有时候用两个\n",
    "负面    但是我还是归还进去了\n",
    "负面    咱们大六个行不行吧\n",
    "负面    没有作废2000的\n",
    "负面    具体时间客服这边还未接到相关通知\n",
    "负面    上午都提交了截图了还没解决\n",
    "负面    哦1900你承担不了哇说\n",
    "中性    跨版本不支持\n",
    "中性    哦哦哈哈哈哈哈哈\n",
    "中性    嗯嗯等找到那个差值后我给您留言\n",
    "中性    一点钟塔也有最迟两点钟\n",
    "中性    升级苹果手机版本到最新版本。\n",
    "中性    方案按住方向键的下键即可\n",
    "中性    哎是的是的是的\n",
    "中性    您好，话费一旦兑换成功，就无法取消了哦。\n",
    "中性    我现在大二入境的助听器\n",
    "中性    安装福昕阅读器解决\n",
    "\"\"\""
   ]
  },
  {
   "cell_type": "code",
   "execution_count": null,
   "metadata": {},
   "outputs": [],
   "source": [
    "samples = simples.split(\"\\n\")\n",
    "labels = []\n",
    "texts = []\n",
    "\n",
    "for line in samples:\n",
    "    if line == \"\":\n",
    "        continue\n",
    "    parts = line.split(\"    \", 1)\n",
    "    print(parts)\n",
    "    labels.append(parts[0])\n",
    "    texts.append(parts[1])\n",
    "print(texts)"
   ]
  },
  {
   "cell_type": "code",
   "execution_count": 10,
   "metadata": {},
   "outputs": [
    {
     "name": "stdout",
     "output_type": "stream",
     "text": [
      "```\n",
      "编号 情绪标签 原句\n",
      "1 中性 医院专家什么接受\n",
      "2 中性 您现在是已经登录成功了么\n",
      "3 中性 晚点会有专员处理的呢亲\n",
      "4 中性 嗯嗯你说吃水果我刚吃了一个苹果\n",
      "5 中性 最开始上传资料就是这个颜色\n",
      "6 中性 还有新用户抽奖领红包\n",
      "7 中性 友友是您说话有回音嘛\n",
      "8 中性 好的会帮您加急的呢\n",
      "9 中性 刚试了一下验证码登录\n",
      "10 中性 怎么获取答题卷\n",
      "11 中性 不是1件8折吗\n",
      "12 中性 哦我知道叔叔不在了\n",
      "13 中性 那不是从你们那的\n",
      "14 中性 你看看有没有其他的因为我有时候用两个\n",
      "15 中性 但是我还是归还进去了\n",
      "16 中性 咱们大六个行不行吧\n",
      "17 中性 没有作废2000的\n",
      "18 中性 具体时间客服这边还未接到相关通知\n",
      "19 中性 上午都提交了截图了还没解决\n",
      "20 中性 哦1900你承担不了哇说\n",
      "21 中性 跨版本不支持\n",
      "22 中性 哦哦哈哈哈哈哈哈\n",
      "23 中性 嗯嗯等找到那个差值后我给您留言\n",
      "24 中性 一点钟塔也有最迟两点钟\n",
      "25 中性 升级苹果手机版本到最新版本。\n",
      "26 中性 方案按住方向键的下键即可\n",
      "27 中性 哎是的是的是的\n",
      "28 中性 您好，话费一旦兑换成功，就无法取消了哦。\n",
      "29 中性 我现在大二入境的助听器\n",
      "30 中性 安装福昕阅读器解决\n",
      "```\n"
     ]
    }
   ],
   "source": [
    "prompt = \"对下面每一行，给出一个情绪标签，正面 中性或负面。返回格式是 `编号 情绪标签 原句`\\n```\\n\"\n",
    "for text in texts:\n",
    "    prompt += text + \"\\n\"\n",
    "prompt += \"```\"\n",
    "ret = llm.invoke(prompt)\n",
    "print(ret.content)"
   ]
  },
  {
   "cell_type": "code",
   "execution_count": 13,
   "metadata": {},
   "outputs": [
    {
     "name": "stdout",
     "output_type": "stream",
     "text": [
      "410 548\n"
     ]
    }
   ],
   "source": [
    "print(len(prompt), len(ret.content))\n",
    "# 410个字符，返回了 548 个字符，需要6S"
   ]
  },
  {
   "cell_type": "markdown",
   "metadata": {},
   "source": [
    "## 看多语言的支持如何\n",
    "\n",
    "印尼语\n",
    "越南语\n",
    "马来语\n",
    "菲律宾\n",
    "泰语\n",
    "柬埔寨语\n",
    "英语\n",
    "阿拉伯\n",
    "西班牙语\n",
    "葡萄牙语"
   ]
  },
  {
   "cell_type": "code",
   "execution_count": 14,
   "metadata": {},
   "outputs": [],
   "source": [
    "langs = \"\"\"印尼语\n",
    "越南语\n",
    "马来语\n",
    "菲律宾\n",
    "泰语\n",
    "柬埔寨语\n",
    "英语\n",
    "阿拉伯\n",
    "西班牙语\n",
    "葡萄牙语\"\"\""
   ]
  },
  {
   "cell_type": "code",
   "execution_count": 16,
   "metadata": {},
   "outputs": [
    {
     "name": "stdout",
     "output_type": "stream",
     "text": [
      "印尼语\n",
      "\" Halo, setelah transaksi top-up sukses, transaksi tersebut tidak dapat dibatalkan lagi ya.\"\n",
      "39 92\n",
      "越南语\n",
      "Xin chào, khi tiền điện thoại được đổi thành công, bạn sẽ không thể hủy lại được đâu nhé.\n",
      "39 89\n",
      "马来语\n",
      "\"Selamat datang, setelah pelunasan puluhan berjaya, ia tidak dapat dibatalkan lagi.\"\n",
      "39 84\n",
      "菲律宾\n",
      "您好， sa tingin nyo, kapag nagawa na ang pagbabahagdag ng bayad para sa tawag, hindi na ito puwedeng ibasura na.\n",
      "39 110\n",
      "泰语\n",
      "คุณสวัสดีครับ/ค่ะ หลังจากที่เปลี่ยนเป็นเงินโทรศัพท์สำเร็จแล้ว จะไม่สามารถยกเลิกได้นะครับ/ค่ะ\n",
      "38 92\n",
      "柬埔寨语\n",
      "សម្តេច បញ្ជាក់ថា នៅពេលដែលប្រាក់ទូរស័ព្ទត្រូវបានប្តូរជាសម្រេច វាមិនអាចលុបចោលបានឡើយ។\n",
      "40 82\n",
      "英语\n",
      "Hello, once the phone credit is successfully redeemed, it cannot be cancelled.\n",
      "38 78\n",
      "阿拉伯\n",
      "مرحباً، بمجرد استكمال عملية استبدال الرصيد، لن يكون من الممكن إلغاءها.\n",
      "39 70\n",
      "西班牙语\n",
      "```\n",
      "Hola, una vez que se haya completado el canje de saldo, no se podrá cancelar.\n",
      "```\n",
      "40 85\n",
      "葡萄牙语\n",
      "Olá, uma vez que o crédito de fones for convertido, não será possível cancelá-lo.\n",
      "40 81\n"
     ]
    }
   ],
   "source": [
    "langs_arr = langs.split(\"\\n\")\n",
    "for lang in langs_arr:\n",
    "    print(lang)\n",
    "    prompt = f\"请翻译这句话到{lang}\\n```\\n\"\n",
    "    prompt += \"您好，话费一旦兑换成功，就无法取消了哦。\\n\"\n",
    "    prompt += \"```\"\n",
    "    ret = llm.invoke(prompt)\n",
    "    print(ret.content)\n",
    "    print(len(prompt), len(ret.content))"
   ]
  }
 ],
 "metadata": {
  "kernelspec": {
   "display_name": "qa",
   "language": "python",
   "name": "python3"
  },
  "language_info": {
   "codemirror_mode": {
    "name": "ipython",
    "version": 3
   },
   "file_extension": ".py",
   "mimetype": "text/x-python",
   "name": "python",
   "nbconvert_exporter": "python",
   "pygments_lexer": "ipython3",
   "version": "3.10.12"
  }
 },
 "nbformat": 4,
 "nbformat_minor": 2
}
