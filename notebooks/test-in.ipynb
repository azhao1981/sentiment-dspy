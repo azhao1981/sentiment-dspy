{
 "cells": [
  {
   "cell_type": "markdown",
   "metadata": {},
   "source": [
    "# 测试印尼语\n"
   ]
  },
  {
   "cell_type": "code",
   "execution_count": 3,
   "metadata": {},
   "outputs": [
    {
     "name": "stdout",
     "output_type": "stream",
     "text": [
      "[['感激', '好的,那我谢谢您了。', '', '', '', ''], ['中性', '没有词汇课的优惠券吗?', '', '', '', '']]\n"
     ]
    }
   ],
   "source": [
    "file_path = \"../.data/all_raretrible.txt\"\n",
    "# file_path = \"../.data/mix_model/data/all_raretrible.txt\"\n",
    "# file_path = \"/home/azhao/projects/ai/train/liubin/mix_model/data/all_raretrible.txt\"\n",
    "data = open(file_path, \"r\", encoding=\"utf-8\").read().split(\"\\n\")\n",
    "data = [x.strip().split(\",\") for x in data if len(x) > 0]\n",
    "data = [[x[0], \",\".join(x[1:]), \"\", \"\", \"\", \"\"] for x in data]\n",
    "print(data[0:2])"
   ]
  },
  {
   "cell_type": "code",
   "execution_count": 5,
   "metadata": {},
   "outputs": [],
   "source": [
    "import pandas as pd\n",
    "\n",
    "columns=[\"label\", \"text\", \"pred_label\",\"main\", \"score\", \"keywords\"]\n",
    "# 转换 data 到 pandas DataFrame\n",
    "df = pd.DataFrame(data, columns=columns)\n",
    "\n",
    "# 保存为 CSV 文件\n",
    "cvs_file = \"../.data/data.csv\"\n",
    "df.to_csv(cvs_file, index=False)"
   ]
  },
  {
   "cell_type": "code",
   "execution_count": 6,
   "metadata": {},
   "outputs": [
    {
     "data": {
      "application/vnd.jupyter.widget-view+json": {
       "model_id": "8904450784274ea19aad211405450f9f",
       "version_major": 2,
       "version_minor": 0
      },
      "text/plain": [
       "Generating train split: 0 examples [00:00, ? examples/s]"
      ]
     },
     "metadata": {},
     "output_type": "display_data"
    },
    {
     "name": "stdout",
     "output_type": "stream",
     "text": [
      "[Example({'label': '感激', 'text': '好的,那我谢谢您了。', 'pred_label': None, 'main': None, 'score': None, 'keywords': None}) (input_keys={'text'}), Example({'label': '中性', 'text': '没有词汇课的优惠券吗?', 'pred_label': None, 'main': None, 'score': None, 'keywords': None}) (input_keys={'text'})]\n"
     ]
    }
   ],
   "source": [
    "\n",
    "from dspy.datasets import DataLoader\n",
    "\n",
    "# 创建 dspy.datasets 对象\n",
    "dl = DataLoader()\n",
    "# fields 选择指定列 input_keys\n",
    "all_dataset = dl.from_csv(\n",
    "    cvs_file,\n",
    "    fields=columns,\n",
    "    input_keys=(\"text\",),\n",
    ")\n",
    "print(all_dataset[0:2])"
   ]
  },
  {
   "cell_type": "code",
   "execution_count": 7,
   "metadata": {},
   "outputs": [],
   "source": [
    "from collections import defaultdict\n",
    "import random\n",
    "\n",
    "\n",
    "def stratified_sample(from_dataset, label_attr, *dataset_sizes):\n",
    "    label_groups = defaultdict(list)\n",
    "    for item in from_dataset:\n",
    "        label = getattr(item, label_attr)\n",
    "        label_groups[label].append(item)\n",
    "\n",
    "    result_sets = [[] for _ in dataset_sizes]\n",
    "\n",
    "    for label, items in label_groups.items():\n",
    "        random.shuffle(items)\n",
    "        label_sizes = [size // len(label_groups) for size in dataset_sizes]\n",
    "        start = 0\n",
    "        for i, size in enumerate(label_sizes):\n",
    "            end = start + size\n",
    "            result_sets[i].extend(items[start:end])\n",
    "            start = end\n",
    "\n",
    "    all_items = [item for items in label_groups.values() for item in items]\n",
    "    for i, (result_set, target_size) in enumerate(zip(result_sets, dataset_sizes)):\n",
    "        shortage = target_size - len(result_set)\n",
    "        if shortage > 0:\n",
    "            result_sets[i].extend(random.sample(all_items, shortage))\n",
    "\n",
    "    return result_sets\n"
   ]
  },
  {
   "cell_type": "code",
   "execution_count": 8,
   "metadata": {},
   "outputs": [],
   "source": [
    "# 使用示例\n",
    "train_set, test_set, sample_set = stratified_sample(all_dataset, \"label\", 20, 50, 100)"
   ]
  },
  {
   "cell_type": "code",
   "execution_count": 9,
   "metadata": {},
   "outputs": [
    {
     "name": "stdout",
     "output_type": "stream",
     "text": [
      "Counter({'中性': 5, '高兴': 4, '焦急': 3, '感激': 2, '惊讶': 2, '抱怨': 2, '生气': 2})\n",
      "Counter({'抱怨': 8, '感激': 7, '中性': 7, '焦急': 7, '惊讶': 7, '高兴': 7, '生气': 7})\n",
      "Counter({'感激': 16, '中性': 14, '焦急': 14, '惊讶': 14, '高兴': 14, '抱怨': 14, '生气': 14})\n"
     ]
    }
   ],
   "source": [
    "from collections import Counter\n",
    "\n",
    "train_set, test_set, sample_set = stratified_sample(all_dataset, \"label\", 20, 50, 100)\n",
    "for dataset in [train_set, test_set, sample_set]:\n",
    "    label_counts = Counter(item.get(\"label\") for item in dataset)\n",
    "    print(label_counts)"
   ]
  },
  {
   "cell_type": "code",
   "execution_count": 11,
   "metadata": {},
   "outputs": [
    {
     "name": "stdout",
     "output_type": "stream",
     "text": [
      "Example({'label': '焦急', 'text': '好的,麻烦尽快,谢谢、', 'pred_label': None, 'main': None, 'score': None, 'keywords': None}) (input_keys={'text'})\n",
      "Example({'label': '抱怨', 'text': '跑了几趟,感觉很麻烦,你直接帮我扣钱行了', 'pred_label': None, 'main': None, 'score': None, 'keywords': None}) (input_keys={'text'})\n",
      "Example({'label': '焦急', 'text': '你们发票开的这么慢吗?', 'pred_label': None, 'main': None, 'score': None, 'keywords': None}) (input_keys={'text'})\n",
      "Example({'label': '高兴', 'text': '太期待了', 'pred_label': None, 'main': None, 'score': None, 'keywords': None}) (input_keys={'text'})\n",
      "Example({'label': '惊讶', 'text': '我昨天买的今天不是应该确认吗', 'pred_label': None, 'main': None, 'score': None, 'keywords': None}) (input_keys={'text'})\n",
      "Example({'label': '感激', 'text': '好的,明白,谢谢你', 'pred_label': None, 'main': None, 'score': None, 'keywords': None}) (input_keys={'text'})\n",
      "Example({'label': '惊讶', 'text': '只是协商嘛,不是退吗?你刚才不是说退吗?', 'pred_label': None, 'main': None, 'score': None, 'keywords': None}) (input_keys={'text'})\n",
      "Example({'label': '中性', 'text': '我现在去你们的归还点都没有你们的机器', 'pred_label': None, 'main': None, 'score': None, 'keywords': None}) (input_keys={'text'})\n",
      "Example({'label': '感激', 'text': '好,谢谢你的耐心解答', 'pred_label': None, 'main': None, 'score': None, 'keywords': None}) (input_keys={'text'})\n",
      "Example({'label': '抱怨', 'text': '网速突然很卡', 'pred_label': None, 'main': None, 'score': None, 'keywords': None}) (input_keys={'text'})\n",
      "Example({'label': '感激', 'text': '辛苦了,谢谢你[emoji052]', 'pred_label': None, 'main': None, 'score': None, 'keywords': None}) (input_keys={'text'})\n",
      "Example({'label': '惊讶', 'text': '湖南能用???这个', 'pred_label': None, 'main': None, 'score': None, 'keywords': None}) (input_keys={'text'})\n",
      "Example({'label': '感激', 'text': '??,谢谢', 'pred_label': None, 'main': None, 'score': None, 'keywords': None}) (input_keys={'text'})\n",
      "Example({'label': '焦急', 'text': '至少要给我个时间点吧,催促了不止一次了', 'pred_label': None, 'main': None, 'score': None, 'keywords': None}) (input_keys={'text'})\n",
      "Example({'label': '高兴', 'text': '非常好', 'pred_label': None, 'main': None, 'score': None, 'keywords': None}) (input_keys={'text'})\n",
      "Example({'label': '生气', 'text': '可以投诉你们对吧', 'pred_label': None, 'main': None, 'score': None, 'keywords': None}) (input_keys={'text'})\n",
      "Example({'label': '高兴', 'text': '喔哈哈哈', 'pred_label': None, 'main': None, 'score': None, 'keywords': None}) (input_keys={'text'})\n",
      "Example({'label': '抱怨', 'text': '大额点的搞着都不敢用了', 'pred_label': None, 'main': None, 'score': None, 'keywords': None}) (input_keys={'text'})\n",
      "Example({'label': '中性', 'text': '我接的充电宝还不了', 'pred_label': None, 'main': None, 'score': None, 'keywords': None}) (input_keys={'text'})\n",
      "Example({'label': '生气', 'text': '不用抱歉!到时候跟警察抱歉去', 'pred_label': None, 'main': None, 'score': None, 'keywords': None}) (input_keys={'text'})\n",
      "Example({'label': '惊讶', 'text': '只是协商嘛,不是退吗?你刚才不是说退吗?', 'pred_label': None, 'main': None, 'score': None, 'keywords': None}) (input_keys={'text'})\n",
      "Example({'label': '高兴', 'text': '好萌,哈哈', 'pred_label': None, 'main': None, 'score': None, 'keywords': None}) (input_keys={'text'})\n",
      "Example({'label': '抱怨', 'text': '已经造成很大麻烦!现在关掉吧', 'pred_label': None, 'main': None, 'score': None, 'keywords': None}) (input_keys={'text'})\n",
      "Example({'label': '中性', 'text': '他好像机子断电了,没通电?所以没还上', 'pred_label': None, 'main': None, 'score': None, 'keywords': None}) (input_keys={'text'})\n",
      "Example({'label': '生气', 'text': '赶时间啊真特么坑', 'pred_label': None, 'main': None, 'score': None, 'keywords': None}) (input_keys={'text'})\n",
      "Example({'label': '高兴', 'text': '再次祝️您新年快乐', 'pred_label': None, 'main': None, 'score': None, 'keywords': None}) (input_keys={'text'})\n",
      "Example({'label': '抱怨', 'text': '早都用完了,现在到处都是那种传染病,都关门了,怎么还?', 'pred_label': None, 'main': None, 'score': None, 'keywords': None}) (input_keys={'text'})\n",
      "Example({'label': '生气', 'text': '是傻逼吗?', 'pred_label': None, 'main': None, 'score': None, 'keywords': None}) (input_keys={'text'})\n",
      "Example({'label': '中性', 'text': '你好,这鞋从哪儿发货呢?大概啥时候能到四川绵阳', 'pred_label': None, 'main': None, 'score': None, 'keywords': None}) (input_keys={'text'})\n",
      "Example({'label': '惊讶', 'text': '.....什么鬼', 'pred_label': None, 'main': None, 'score': None, 'keywords': None}) (input_keys={'text'})\n",
      "Example({'label': '惊讶', 'text': '我的账号怎么不在了', 'pred_label': None, 'main': None, 'score': None, 'keywords': None}) (input_keys={'text'})\n",
      "Example({'label': '抱怨', 'text': '找不到门店,疯了', 'pred_label': None, 'main': None, 'score': None, 'keywords': None}) (input_keys={'text'})\n",
      "Example({'label': '焦急', 'text': '所以可以快一点吗,虽然这个要求很无理', 'pred_label': None, 'main': None, 'score': None, 'keywords': None}) (input_keys={'text'})\n",
      "Example({'label': '焦急', 'text': '你们售后不能加急直接上门服务吗?', 'pred_label': None, 'main': None, 'score': None, 'keywords': None}) (input_keys={'text'})\n",
      "Example({'label': '感激', 'text': '可以了,感谢哦', 'pred_label': None, 'main': None, 'score': None, 'keywords': None}) (input_keys={'text'})\n",
      "Example({'label': '抱怨', 'text': '我去,好坑', 'pred_label': None, 'main': None, 'score': None, 'keywords': None}) (input_keys={'text'})\n",
      "Example({'label': '焦急', 'text': '/::~比较紧急,麻烦大神抽时间处理一下,谢谢', 'pred_label': None, 'main': None, 'score': None, 'keywords': None}) (input_keys={'text'})\n",
      "Example({'label': '中性', 'text': '现在显示没成功', 'pred_label': None, 'main': None, 'score': None, 'keywords': None}) (input_keys={'text'})\n",
      "Example({'label': '感激', 'text': '啦谢谢了', 'pred_label': None, 'main': None, 'score': None, 'keywords': None}) (input_keys={'text'})\n",
      "Example({'label': '焦急', 'text': '我都催了好几天了', 'pred_label': None, 'main': None, 'score': None, 'keywords': None}) (input_keys={'text'})\n",
      "Example({'label': '生气', 'text': '核实你妈币', 'pred_label': None, 'main': None, 'score': None, 'keywords': None}) (input_keys={'text'})\n",
      "Example({'label': '惊讶', 'text': '仓没满换还不了?', 'pred_label': None, 'main': None, 'score': None, 'keywords': None}) (input_keys={'text'})\n",
      "Example({'label': '高兴', 'text': '膜拜膜拜,这个设计太棒了', 'pred_label': None, 'main': None, 'score': None, 'keywords': None}) (input_keys={'text'})\n",
      "Example({'label': '生气', 'text': '你是傻的吗?我怎么点击广告频率过高???', 'pred_label': None, 'main': None, 'score': None, 'keywords': None}) (input_keys={'text'})\n",
      "Example({'label': '生气', 'text': '太忽悠人了', 'pred_label': None, 'main': None, 'score': None, 'keywords': None}) (input_keys={'text'})\n",
      "Example({'label': '抱怨', 'text': '你给我发编码干嘛??你要给我解决问题好么亲', 'pred_label': None, 'main': None, 'score': None, 'keywords': None}) (input_keys={'text'})\n",
      "Example({'label': '感激', 'text': '暂时不需要,谢谢', 'pred_label': None, 'main': None, 'score': None, 'keywords': None}) (input_keys={'text'})\n",
      "Example({'label': '中性', 'text': '就爱加都是', 'pred_label': None, 'main': None, 'score': None, 'keywords': None}) (input_keys={'text'})\n",
      "Example({'label': '高兴', 'text': '哈哈哈哈哈猛', 'pred_label': None, 'main': None, 'score': None, 'keywords': None}) (input_keys={'text'})\n",
      "Example({'label': '中性', 'text': '哪些属于偏远', 'pred_label': None, 'main': None, 'score': None, 'keywords': None}) (input_keys={'text'})\n"
     ]
    }
   ],
   "source": [
    "import random\n",
    "\n",
    "random.shuffle(test_set)\n",
    "for item in test_set:\n",
    "    print(item)"
   ]
  },
  {
   "cell_type": "code",
   "execution_count": 32,
   "metadata": {},
   "outputs": [
    {
     "name": "stderr",
     "output_type": "stream",
     "text": [
      "d:\\dev\\py-venv\\qa\\Lib\\site-packages\\pydantic\\_internal\\_fields.py:161: UserWarning: Field \"model_name\" has conflict with protected namespace \"model_\".\n",
      "\n",
      "You may be able to resolve this warning by setting `model_config['protected_namespaces'] = ()`.\n",
      "  warnings.warn(\n"
     ]
    },
    {
     "name": "stdout",
     "output_type": "stream",
     "text": [
      "You are a customer service quality inspection expert., sentiment analysis from Question\n",
      "\n",
      "---\n",
      "\n",
      "Follow the following format.\n",
      "\n",
      "Question: list of input text\n",
      "Answer: \n",
      "    返回格式 \"序号,情绪分类,情绪子分类,情绪分类评分\" \n",
      "    情绪分类包括 正向,负向,中性\n",
      "    情绪子分类包括 ['中性', '惊讶', '感激', '抱怨', '焦急', '生气', '高兴']，\n",
      "    情绪子分类评分(0-1.0)。\n",
      "    例如 1,负向,抱怨,0.9\n",
      "注意：请严格上面的分类来输出，不要输出不在情绪子分类包括中的的分类\n",
      "\n",
      "Here is an example\n",
      "---\n",
      "\n",
      "Question: 好的谢谢!!\n",
      "Answer: 1,正向,感激,0.8\n",
      "\n",
      "---\n",
      "\n",
      "Question: 谢了亲电话打过了\n",
      "Answer: 2,正向,感激,0.8\n",
      "\n",
      "---\n",
      "\n",
      "Question: 我看下都吓我一跳\n",
      "Answer: 3,负向,惊讶,0.9\n",
      "\n",
      "---\n",
      "\n",
      "Question: 哈哈哈哈可以的亲\n",
      "Answer: 4,正向,高兴,0.8\n",
      "\n",
      "---\n",
      "\n",
      "Question:\n",
      "```\n",
      "0: 1 好的,麻烦尽快,谢谢、\n",
      "1: 2 跑了几趟,感觉很麻烦,你直接帮我扣钱行了\n",
      "2: 3 你们发票开的这么慢吗?\n",
      "3: 4 太期待了\n",
      "4: 5 我昨天买的今天不是应该确认吗\n",
      "5: 6 好的,明白,谢谢你\n",
      "6: 7 只是协商嘛,不是退吗?你刚才不是说退吗?\n",
      "7: 8 我现在去你们的归还点都没有你们的机器\n",
      "8: 9 好,谢谢你的耐心解答\n",
      "9: 10 网速突然很卡\n",
      "10: 11 辛苦了,谢谢你[emoji052]\n",
      "11: 12 湖南能用???这个\n",
      "12: 13 ??,谢谢\n",
      "13: 14 至少要给我个时间点吧,催促了不止一次了\n",
      "14: 15 非常好\n",
      "15: 16 可以投诉你们对吧\n",
      "16: 17 喔哈哈哈\n",
      "17: 18 大额点的搞着都不敢用了\n",
      "18: 19 我接的充电宝还不了\n",
      "19: 20 不用抱歉!到时候跟警察抱歉去\n",
      "20: 21 只是协商嘛,不是退吗?你刚才不是说退吗?\n",
      "21: 22 好萌,哈哈\n",
      "22: 23 已经造成很大麻烦!现在关掉吧\n",
      "23: 24 他好像机子断电了,没通电?所以没还上\n",
      "24: 25 赶时间啊真特么坑\n",
      "25: 26 再次祝️您新年快乐\n",
      "26: 27 早都用完了,现在到处都是那种传染病,都关门了,怎么还?\n",
      "27: 28 是傻逼吗?\n",
      "28: 29 你好,这鞋从哪儿发货呢?大概啥时候能到四川绵阳\n",
      "29: 30 .....什么鬼\n",
      "30: 31 我的账号怎么不在了\n",
      "31: 32 找不到门店,疯了\n",
      "32: 33 所以可以快一点吗,虽然这个要求很无理\n",
      "33: 34 你们售后不能加急直接上门服务吗?\n",
      "34: 35 可以了,感谢哦\n",
      "35: 36 我去,好坑\n",
      "36: 37 /::~比较紧急,麻烦大神抽时间处理一下,谢谢\n",
      "37: 38 现在显示没成功\n",
      "38: 39 啦谢谢了\n",
      "39: 40 我都催了好几天了\n",
      "40: 41 核实你妈币\n",
      "41: 42 仓没满换还不了?\n",
      "42: 43 膜拜膜拜,这个设计太棒了\n",
      "43: 44 你是傻的吗?我怎么点击广告频率过高???\n",
      "44: 45 太忽悠人了\n",
      "45: 46 你给我发编码干嘛??你要给我解决问题好么亲\n",
      "46: 47 暂时不需要,谢谢\n",
      "47: 48 就爱加都是\n",
      "48: 49 哈哈哈哈哈猛\n",
      "49: 50 哪些属于偏远\n",
      "\n",
      "```\n",
      "Answer: \n",
      "1,正向,感激,0.8\n",
      "2,负向,抱怨,0.9\n",
      "3,负向,抱怨,0.8\n",
      "4,正向,期待,0.8\n",
      "5,中性,催促,0.7\n",
      "6,中性,感谢,0.8\n",
      "7,中性,疑问,0.7\n",
      "8,负向,抱怨,0.9\n",
      "9,中性,感谢,0.8\n",
      "10,负向,抱怨,0.8\n",
      "11,中性,感谢,0.8\n",
      "12,中性,疑问,0.7\n",
      "13,中性,疑问,0.7\n",
      "14,负向,抱怨,0.8\n",
      "15,正向,满意,0.8\n",
      "16,中性,疑问,0.7\n",
      "17,中性,高兴,0.8\n",
      "18,负向,抱怨,0.9\n",
      "19,负向,抱怨,0.9\n",
      "20,中性,疑问,0.7\n",
      "21,中性,疑问,0.7\n",
      "22,中性,高兴,0.8\n",
      "23,负向,抱怨,0.9\n",
      "24,中性,抱怨,0.8\n",
      "25,负向,抱怨,0.9\n",
      "26,中性,抱怨,0.7\n",
      "27,负向,抱怨,0.9\n",
      "28,中性,疑问,0.7\n",
      "29,中性,疑问,0.7\n",
      "30,负向,抱怨,0.8\n",
      "31,负向,抱怨,0.8\n",
      "32,负向,抱怨,0.9\n",
      "33,中性,催促,0.7\n",
      "34,中性,请求,0.8\n",
      "35,中性,感谢,0.8\n",
      "36,负向,抱怨,0.9\n",
      "37,中性,请求,0.8\n",
      "38,负向,抱怨,0.8\n",
      "39,中性,感谢,0.8\n",
      "40,负向,抱怨,0.8\n",
      "41,负向,抱怨,0.8\n",
      "42,负向,抱怨,0.8\n",
      "43,正向,满意,0.8\n",
      "44,负向,抱怨,0.9\n",
      "45,负向,抱怨,0.9\n",
      "46,负向,抱怨,0.8\n",
      "47,中性,感谢,0.8\n",
      "48,中性,高兴,0.8\n",
      "49,中性,高兴,0.8\n",
      "50,中性,疑问,0.7\n"
     ]
    }
   ],
   "source": [
    "import importlib\n",
    "import analysis\n",
    "\n",
    "importlib.reload(analysis)\n",
    "\n",
    "messages = []\n",
    "for i, item in enumerate(test_set):\n",
    "    messages.append(f\"{i+1} {item.get('text')}\")\n",
    "ana = analysis.Analysis(messages=messages)\n",
    "ret = ana.do()\n",
    "print(ret.content)"
   ]
  },
  {
   "cell_type": "code",
   "execution_count": 33,
   "metadata": {},
   "outputs": [],
   "source": [
    "# 答案和问题对应起来\n",
    "def update_sample(sample_set, answer):\n",
    "    # 删除 answer 中的 'Answer: ', 删除空行\n",
    "    answer = answer.replace(\"Answer: \", \"\").strip()\n",
    "    for sample, prediction in zip(sample_set, answer.split(\"\\n\")):\n",
    "        sample[\"score\"] = prediction.split(\",\")[3]\n",
    "        sample[\"pred_label\"] = prediction.split(\",\")[2]\n",
    "        sample[\"main\"] = prediction.split(\",\")[1]\n",
    "\n",
    "\n",
    "def sample_error_rate(sample_set):\n",
    "    incorrect_count = sum(\n",
    "        1 for sample in sample_set if sample[\"pred_label\"] != sample[\"label\"]\n",
    "    )\n",
    "    total_count = len(sample_set)\n",
    "    return incorrect_count / total_count"
   ]
  },
  {
   "cell_type": "code",
   "execution_count": 34,
   "metadata": {},
   "outputs": [
    {
     "name": "stdout",
     "output_type": "stream",
     "text": [
      "0.78\n"
     ]
    }
   ],
   "source": [
    "update_sample(test_set, ret.content)\n",
    "print(sample_error_rate(test_set))\n"
   ]
  },
  {
   "cell_type": "code",
   "execution_count": 35,
   "metadata": {},
   "outputs": [
    {
     "name": "stdout",
     "output_type": "stream",
     "text": [
      "Question 0: Example({'label': '焦急', 'text': '好的,麻烦尽快,谢谢、', 'pred_label': '感激', 'main': '正向', 'score': '0.8', 'keywords': '正向'}) (input_keys={'text'})\n",
      "Question 1: Example({'label': '焦急', 'text': '你们发票开的这么慢吗?', 'pred_label': '抱怨', 'main': '负向', 'score': '0.8', 'keywords': '负向'}) (input_keys={'text'})\n",
      "Question 2: Example({'label': '高兴', 'text': '太期待了', 'pred_label': '期待', 'main': '正向', 'score': '0.8', 'keywords': '正向'}) (input_keys={'text'})\n",
      "Question 3: Example({'label': '惊讶', 'text': '我昨天买的今天不是应该确认吗', 'pred_label': '催促', 'main': '中性', 'score': '0.7', 'keywords': '负向'}) (input_keys={'text'})\n",
      "Question 4: Example({'label': '感激', 'text': '好的,明白,谢谢你', 'pred_label': '感谢', 'main': '中性', 'score': '0.8', 'keywords': '正向'}) (input_keys={'text'})\n",
      "Question 5: Example({'label': '惊讶', 'text': '只是协商嘛,不是退吗?你刚才不是说退吗?', 'pred_label': '疑问', 'main': '中性', 'score': '0.7', 'keywords': '负向'}) (input_keys={'text'})\n",
      "Question 6: Example({'label': '中性', 'text': '我现在去你们的归还点都没有你们的机器', 'pred_label': '抱怨', 'main': '负向', 'score': '0.9', 'keywords': '负向'}) (input_keys={'text'})\n",
      "Question 7: Example({'label': '感激', 'text': '好,谢谢你的耐心解答', 'pred_label': '感谢', 'main': '中性', 'score': '0.8', 'keywords': '中性'}) (input_keys={'text'})\n",
      "Question 8: Example({'label': '感激', 'text': '辛苦了,谢谢你[emoji052]', 'pred_label': '感谢', 'main': '中性', 'score': '0.8', 'keywords': '中性'}) (input_keys={'text'})\n",
      "Question 9: Example({'label': '惊讶', 'text': '湖南能用???这个', 'pred_label': '疑问', 'main': '中性', 'score': '0.7', 'keywords': '中性'}) (input_keys={'text'})\n",
      "Question 10: Example({'label': '感激', 'text': '??,谢谢', 'pred_label': '疑问', 'main': '中性', 'score': '0.7', 'keywords': '中性'}) (input_keys={'text'})\n",
      "Question 11: Example({'label': '焦急', 'text': '至少要给我个时间点吧,催促了不止一次了', 'pred_label': '抱怨', 'main': '负向', 'score': '0.8', 'keywords': '负向'}) (input_keys={'text'})\n",
      "Question 12: Example({'label': '高兴', 'text': '非常好', 'pred_label': '满意', 'main': '正向', 'score': '0.8', 'keywords': '中性'}) (input_keys={'text'})\n",
      "Question 13: Example({'label': '生气', 'text': '可以投诉你们对吧', 'pred_label': '疑问', 'main': '中性', 'score': '0.7', 'keywords': '负向'}) (input_keys={'text'})\n",
      "Question 14: Example({'label': '中性', 'text': '我接的充电宝还不了', 'pred_label': '抱怨', 'main': '负向', 'score': '0.9', 'keywords': '负向'}) (input_keys={'text'})\n",
      "Question 15: Example({'label': '生气', 'text': '不用抱歉!到时候跟警察抱歉去', 'pred_label': '疑问', 'main': '中性', 'score': '0.7', 'keywords': '负向'}) (input_keys={'text'})\n",
      "Question 16: Example({'label': '惊讶', 'text': '只是协商嘛,不是退吗?你刚才不是说退吗?', 'pred_label': '疑问', 'main': '中性', 'score': '0.7', 'keywords': '负向'}) (input_keys={'text'})\n",
      "Question 17: Example({'label': '中性', 'text': '他好像机子断电了,没通电?所以没还上', 'pred_label': '抱怨', 'main': '中性', 'score': '0.8', 'keywords': '负向'}) (input_keys={'text'})\n",
      "Question 18: Example({'label': '生气', 'text': '赶时间啊真特么坑', 'pred_label': '抱怨', 'main': '负向', 'score': '0.9', 'keywords': '负向'}) (input_keys={'text'})\n",
      "Question 19: Example({'label': '高兴', 'text': '再次祝️您新年快乐', 'pred_label': '抱怨', 'main': '中性', 'score': '0.7', 'keywords': '中性'}) (input_keys={'text'})\n",
      "Question 20: Example({'label': '生气', 'text': '是傻逼吗?', 'pred_label': '疑问', 'main': '中性', 'score': '0.7', 'keywords': '负向'}) (input_keys={'text'})\n",
      "Question 21: Example({'label': '中性', 'text': '你好,这鞋从哪儿发货呢?大概啥时候能到四川绵阳', 'pred_label': '疑问', 'main': '中性', 'score': '0.7', 'keywords': '中性'}) (input_keys={'text'})\n",
      "Question 22: Example({'label': '惊讶', 'text': '.....什么鬼', 'pred_label': '抱怨', 'main': '负向', 'score': '0.8', 'keywords': '负向'}) (input_keys={'text'})\n",
      "Question 23: Example({'label': '惊讶', 'text': '我的账号怎么不在了', 'pred_label': '抱怨', 'main': '负向', 'score': '0.8', 'keywords': '负向'}) (input_keys={'text'})\n",
      "Question 24: Example({'label': '焦急', 'text': '所以可以快一点吗,虽然这个要求很无理', 'pred_label': '催促', 'main': '中性', 'score': '0.7', 'keywords': '负向'}) (input_keys={'text'})\n",
      "Question 25: Example({'label': '焦急', 'text': '你们售后不能加急直接上门服务吗?', 'pred_label': '请求', 'main': '中性', 'score': '0.8', 'keywords': '负向'}) (input_keys={'text'})\n",
      "Question 26: Example({'label': '感激', 'text': '可以了,感谢哦', 'pred_label': '感谢', 'main': '中性', 'score': '0.8', 'keywords': '正向'}) (input_keys={'text'})\n",
      "Question 27: Example({'label': '焦急', 'text': '/::~比较紧急,麻烦大神抽时间处理一下,谢谢', 'pred_label': '请求', 'main': '中性', 'score': '0.8', 'keywords': '负向'}) (input_keys={'text'})\n",
      "Question 28: Example({'label': '中性', 'text': '现在显示没成功', 'pred_label': '抱怨', 'main': '负向', 'score': '0.8', 'keywords': '负向'}) (input_keys={'text'})\n",
      "Question 29: Example({'label': '感激', 'text': '啦谢谢了', 'pred_label': '感谢', 'main': '中性', 'score': '0.8', 'keywords': '中性'}) (input_keys={'text'})\n",
      "Question 30: Example({'label': '焦急', 'text': '我都催了好几天了', 'pred_label': '抱怨', 'main': '负向', 'score': '0.8', 'keywords': '负向'}) (input_keys={'text'})\n",
      "Question 31: Example({'label': '生气', 'text': '核实你妈币', 'pred_label': '抱怨', 'main': '负向', 'score': '0.8', 'keywords': '负向'}) (input_keys={'text'})\n",
      "Question 32: Example({'label': '惊讶', 'text': '仓没满换还不了?', 'pred_label': '抱怨', 'main': '负向', 'score': '0.8', 'keywords': '负向'}) (input_keys={'text'})\n",
      "Question 33: Example({'label': '高兴', 'text': '膜拜膜拜,这个设计太棒了', 'pred_label': '满意', 'main': '正向', 'score': '0.8', 'keywords': '正向'}) (input_keys={'text'})\n",
      "Question 34: Example({'label': '生气', 'text': '你是傻的吗?我怎么点击广告频率过高???', 'pred_label': '抱怨', 'main': '负向', 'score': '0.9', 'keywords': '负向'}) (input_keys={'text'})\n",
      "Question 35: Example({'label': '生气', 'text': '太忽悠人了', 'pred_label': '抱怨', 'main': '负向', 'score': '0.9', 'keywords': '负向'}) (input_keys={'text'})\n",
      "Question 36: Example({'label': '感激', 'text': '暂时不需要,谢谢', 'pred_label': '感谢', 'main': '中性', 'score': '0.8', 'keywords': '中性'}) (input_keys={'text'})\n",
      "Question 37: Example({'label': '中性', 'text': '就爱加都是', 'pred_label': '高兴', 'main': '中性', 'score': '0.8', 'keywords': '中性'}) (input_keys={'text'})\n",
      "Question 38: Example({'label': '中性', 'text': '哪些属于偏远', 'pred_label': '疑问', 'main': '中性', 'score': '0.7', 'keywords': '中性'}) (input_keys={'text'})\n"
     ]
    }
   ],
   "source": [
    "idx = 0\n",
    "for sample in test_set:\n",
    "    if sample[\"pred_label\"] != sample[\"label\"]:\n",
    "        print(f\"Question {idx}: {sample}\")\n",
    "        idx+=1"
   ]
  }
 ],
 "metadata": {
  "kernelspec": {
   "display_name": "qa",
   "language": "python",
   "name": "python3"
  },
  "language_info": {
   "codemirror_mode": {
    "name": "ipython",
    "version": 3
   },
   "file_extension": ".py",
   "mimetype": "text/x-python",
   "name": "python",
   "nbconvert_exporter": "python",
   "pygments_lexer": "ipython3",
   "version": "3.11.5"
  }
 },
 "nbformat": 4,
 "nbformat_minor": 2
}
