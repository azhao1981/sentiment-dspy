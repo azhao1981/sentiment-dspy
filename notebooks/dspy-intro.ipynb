{
 "cells": [
  {
   "cell_type": "code",
   "execution_count": null,
   "metadata": {},
   "outputs": [],
   "source": [
    "from dotenv import find_dotenv, load_dotenv\n",
    "\n",
    "load_dotenv(find_dotenv(), override=True)"
   ]
  },
  {
   "cell_type": "code",
   "execution_count": null,
   "metadata": {},
   "outputs": [],
   "source": [
    "import socket\n",
    "\n",
    "import socks\n",
    "\n",
    "socks.set_default_proxy(socks.SOCKS5, \"127.0.0.1\", 1081)\n",
    "socket.socket = socks.socksocket"
   ]
  },
  {
   "cell_type": "code",
   "execution_count": null,
   "metadata": {},
   "outputs": [],
   "source": [
    "# 取消代理\n",
    "socket.socket = socket._socket.socket"
   ]
  },
  {
   "cell_type": "code",
   "execution_count": null,
   "metadata": {},
   "outputs": [],
   "source": [
    "import os\n",
    "\n",
    "import dspy\n",
    "\n",
    "api_key = os.getenv(\"ONEAPI_API_KEY\")\n",
    "base_url = os.getenv(\"ONEAPI_BASE_URL\")\n",
    "turbo = dspy.OpenAI(\n",
    "    api_key=api_key, model=\"glm-4-flash\", api_base=base_url, model_type=\"chat\"\n",
    ")\n",
    "colbertv2_wiki17_abstracts = dspy.ColBERTv2(\n",
    "    url=\"http://20.102.90.50:2017/wiki17_abstracts\"\n",
    ")\n",
    "\n",
    "dspy.settings.configure(lm=turbo, rm=colbertv2_wiki17_abstracts)"
   ]
  }
 ],
 "metadata": {
  "kernelspec": {
   "display_name": ".sentiment-dspy",
   "language": "python",
   "name": "python3"
  },
  "language_info": {
   "codemirror_mode": {
    "name": "ipython",
    "version": 3
   },
   "file_extension": ".py",
   "mimetype": "text/x-python",
   "name": "python",
   "nbconvert_exporter": "python",
   "pygments_lexer": "ipython3",
   "version": "3.11.5"
  }
 },
 "nbformat": 4,
 "nbformat_minor": 2
}
