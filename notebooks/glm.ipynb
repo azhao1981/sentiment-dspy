{
 "cells": [
  {
   "cell_type": "code",
   "execution_count": null,
   "metadata": {},
   "outputs": [],
   "source": [
    "import os\n",
    "\n",
    "from dotenv import find_dotenv, load_dotenv\n",
    "from zhipuai import ZhipuAI\n",
    "\n",
    "load_dotenv(find_dotenv(), override=True)\n",
    "\n",
    "api_key = os.getenv(\"ZHIPU_KEY\")\n",
    "model_name = \"glm-4-flash\"\n",
    "\n",
    "client = ZhipuAI(api_key=api_key)\n",
    "\n",
    "\n",
    "def reason(messages):\n",
    "    response = client.chat.completions.create(model=model_name, messages=messages)\n",
    "    return response.choices[0].message"
   ]
  },
  {
   "cell_type": "code",
   "execution_count": null,
   "metadata": {},
   "outputs": [],
   "source": [
    "messages = [{\"role\": \"user\", \"content\": \"你是谁\"}]\n",
    "print(reason(messages))\n"
   ]
  }
 ],
 "metadata": {
  "kernelspec": {
   "display_name": ".sentiment-dspy",
   "language": "python",
   "name": "python3"
  },
  "language_info": {
   "codemirror_mode": {
    "name": "ipython",
    "version": 3
   },
   "file_extension": ".py",
   "mimetype": "text/x-python",
   "name": "python",
   "nbconvert_exporter": "python",
   "pygments_lexer": "ipython3",
   "version": "3.11.5"
  }
 },
 "nbformat": 4,
 "nbformat_minor": 2
}
