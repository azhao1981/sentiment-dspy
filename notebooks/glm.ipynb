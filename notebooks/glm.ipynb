{
 "cells": [
  {
   "cell_type": "code",
   "execution_count": 14,
   "metadata": {},
   "outputs": [],
   "source": [
    "import os\n",
    "\n",
    "from dotenv import find_dotenv, load_dotenv\n",
    "from zhipuai import ZhipuAI\n",
    "\n",
    "load_dotenv(find_dotenv(), override=True)\n",
    "\n",
    "api_key = os.getenv(\"ZHIPU_KEY\")\n",
    "model_name = \"glm-4-flash\"\n",
    "\n",
    "client = ZhipuAI(api_key=api_key)\n",
    "\n",
    "\n",
    "def reason(messages):\n",
    "    response = None\n",
    "    try:\n",
    "        response = client.chat.completions.create(model=model_name, messages=messages)\n",
    "        return response.choices[0].message\n",
    "    except Exception as e:\n",
    "        print(e)\n",
    "        print(response)"
   ]
  },
  {
   "cell_type": "code",
   "execution_count": 3,
   "metadata": {},
   "outputs": [
    {
     "name": "stdout",
     "output_type": "stream",
     "text": [
      "CompletionMessage(content='我是一个名为 ChatGLM 的人工智能助手，是基于清华大学 KEG 实验室和智谱 AI 公司于 2024 年共同训练的语言模型开发的。我的任务是针对用户的问题和要求提供适当的答复和支持。', role='assistant', tool_calls=None)\n"
     ]
    }
   ],
   "source": [
    "messages = [{\"role\": \"user\", \"content\": \"你是谁\"}]\n",
    "print(reason(messages))"
   ]
  },
  {
   "cell_type": "code",
   "execution_count": 40,
   "metadata": {},
   "outputs": [
    {
     "name": "stdout",
     "output_type": "stream",
     "text": [
      "你是客服质检专家, sentiment analysis from Question\n",
      "\n",
      "---\n",
      "\n",
      "Follow the following format.\n",
      "\n",
      "Question: list of input text\n",
      "Answer: \n",
      "    返回格式 \"序号,'正向|负向|中性',情绪分类,情绪分类评分\" \n",
      "    情绪分类包括 ['中性', '惊讶', '感激', '抱怨', '焦急', '生气', '高兴']，\n",
      "    情绪分类评分(0-1.0)。\n",
      "    例如 1,负向,抱怨,0.9\n",
      "\n",
      "Here is an example\n",
      "---\n",
      "\n",
      "Question: 好的谢谢!!\n",
      "Answer: 1,正向,感激,0.8\n",
      "\n",
      "---\n",
      "\n",
      "Question: 谢了亲电话打过了\n",
      "Answer: 2,正向,感激,0.8\n",
      "\n",
      "---\n",
      "\n",
      "Question: 我看下都吓我一跳\n",
      "Answer: 3,负向,惊讶,0.9\n",
      "\n",
      "---\n",
      "\n",
      "Question: 哈哈哈哈可以的亲\n",
      "Answer: 4,正向,高兴,0.8\n",
      "\n",
      "---\n",
      "\n",
      "Question:\n",
      "```\n",
      "1 今天效率赞一个\n",
      "2 我非常满意\n",
      "3 买了半年没绑定手机,结果绑定以后发现唉竟然是坏的不能用\n",
      "4 我买那么久,第一次售后就弄这一出\n",
      "5 其它平台的认证这块太麻烦\n",
      "6 很影响客户告知,亲爱的\n",
      "7 都发了好几遍截图了\n",
      "8 这件明明就是你们没检查好给我的为什么不能退?\n",
      "9 这样谁还敢借呀\n",
      "10 瞬间被骗了的感觉。这个皮皮网到底是个什么平台啊?\n",
      "11 有人在么骗子公司\n",
      "12 特么的,人死哪去了\n",
      "13 你们就只能骗人\n",
      "14 很好,大不了我号召我们区的玩家不玩了,本来就是一个边研发边更新的不成熟游戏,结果你们客服还那么不靠谱\n",
      "15 如果没正常收费,我下午会打电话投诉的\n",
      "16 办了会员不中奖这不是欺骗么\n",
      "17 而且破损严重怎么处理?破成这样也没法送人啦。\n",
      "```\n",
      "Answer:\n",
      "1, 正向, 高兴, 0.7\n",
      "2, 正向, 感激, 0.9\n",
      "3, 负向, 抱怨, 0.8\n",
      "4, 负向, 抱怨, 0.7\n",
      "5, 负向, 抱怨, 0.6\n",
      "6, 负向, 抱怨, 0.6\n",
      "7, 负向, 抱怨, 0.7\n",
      "8, 负向, 抱怨, 0.9\n",
      "9, 负向, 抱怨, 0.8\n",
      "10, 负向, 惊讶, 0.9\n",
      "11, 负向, 生气, 0.8\n",
      "12, 负向, 生气, 0.8\n",
      "13, 负向, 生气, 0.7\n",
      "14, 负向, 抱怨, 0.9\n",
      "15, 负向, 焦急, 0.8\n",
      "16, 负向, 生气, 0.8\n",
      "17, 负向, 抱怨, 0.7\n"
     ]
    }
   ],
   "source": [
    "txt = \"\".join(open(\"prompt2.txt\", \"r\").readlines())\n",
    "messages = [{\"role\": \"user\", \"content\": txt}]\n",
    "print(messages[0][\"content\"])\n",
    "ret = reason(messages)\n",
    "print(ret.content)\n"
   ]
  }
 ],
 "metadata": {
  "kernelspec": {
   "display_name": ".sentiment-dspy",
   "language": "python",
   "name": "python3"
  },
  "language_info": {
   "codemirror_mode": {
    "name": "ipython",
    "version": 3
   },
   "file_extension": ".py",
   "mimetype": "text/x-python",
   "name": "python",
   "nbconvert_exporter": "python",
   "pygments_lexer": "ipython3",
   "version": "3.11.7"
  }
 },
 "nbformat": 4,
 "nbformat_minor": 2
}
