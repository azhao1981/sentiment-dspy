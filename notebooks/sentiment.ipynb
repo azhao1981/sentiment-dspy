{
 "cells": [
  {
   "cell_type": "code",
   "execution_count": 5,
   "metadata": {},
   "outputs": [
    {
     "name": "stdout",
     "output_type": "stream",
     "text": [
      "[['感激', '好的,那我谢谢您了。', '', '', ''], ['中性', '没有词汇课的优惠券吗?', '', '', '']]\n"
     ]
    }
   ],
   "source": [
    "file_path = \"../.data/mix_model/data/all_raretrible.txt\"\n",
    "# file_path = \"/home/azhao/projects/ai/train/liubin/mix_model/data/all_raretrible.txt\"\n",
    "data = open(file_path, \"r\").read().split(\"\\n\")\n",
    "data = [x.strip().split(\",\") for x in data if len(x) > 0]\n",
    "data = [[x[0], \",\".join(x[1:]), \"\", \"\", \"\"] for x in data]\n",
    "print(data[0:2])"
   ]
  },
  {
   "cell_type": "code",
   "execution_count": 6,
   "metadata": {},
   "outputs": [],
   "source": [
    "import pandas as pd\n",
    "\n",
    "# 转换 data 到 pandas DataFrame\n",
    "df = pd.DataFrame(data, columns=[\"label\", \"text\", \"pred_label\", \"score\", \"keywords\"])\n",
    "\n",
    "# 保存为 CSV 文件\n",
    "cvs_file = \"../.data/data.csv\"\n",
    "df.to_csv(cvs_file, index=False)"
   ]
  },
  {
   "cell_type": "code",
   "execution_count": 7,
   "metadata": {},
   "outputs": [
    {
     "data": {
      "application/vnd.jupyter.widget-view+json": {
       "model_id": "1577e543c7df4599bbeaeceb453df41d",
       "version_major": 2,
       "version_minor": 0
      },
      "text/plain": [
       "Generating train split: 0 examples [00:00, ? examples/s]"
      ]
     },
     "metadata": {},
     "output_type": "display_data"
    },
    {
     "name": "stdout",
     "output_type": "stream",
     "text": [
      "[Example({'label': '感激', 'text': '好的,那我谢谢您了。', 'score': None, 'pred_label': None, 'keywords': None}) (input_keys={'text'}), Example({'label': '中性', 'text': '没有词汇课的优惠券吗?', 'score': None, 'pred_label': None, 'keywords': None}) (input_keys={'text'})]\n"
     ]
    }
   ],
   "source": [
    "from dspy.datasets import DataLoader\n",
    "\n",
    "# 创建 dspy.datasets 对象\n",
    "dl = DataLoader()\n",
    "# fields 选择指定列 input_keys\n",
    "all_dataset = dl.from_csv(\n",
    "    cvs_file,\n",
    "    fields=(\"label\", \"text\", \"score\", \"pred_label\", \"score\", \"keywords\"),\n",
    "    input_keys=(\"text\",),\n",
    ")\n",
    "print(all_dataset[0:2])"
   ]
  },
  {
   "cell_type": "code",
   "execution_count": 8,
   "metadata": {},
   "outputs": [],
   "source": [
    "from collections import defaultdict\n",
    "import random\n",
    "\n",
    "\n",
    "def stratified_sample(from_dataset, label_attr, *dataset_sizes):\n",
    "    label_groups = defaultdict(list)\n",
    "    for item in from_dataset:\n",
    "        label = getattr(item, label_attr)\n",
    "        label_groups[label].append(item)\n",
    "\n",
    "    result_sets = [[] for _ in dataset_sizes]\n",
    "\n",
    "    for label, items in label_groups.items():\n",
    "        random.shuffle(items)\n",
    "        label_sizes = [size // len(label_groups) for size in dataset_sizes]\n",
    "        start = 0\n",
    "        for i, size in enumerate(label_sizes):\n",
    "            end = start + size\n",
    "            result_sets[i].extend(items[start:end])\n",
    "            start = end\n",
    "\n",
    "    all_items = [item for items in label_groups.values() for item in items]\n",
    "    for i, (result_set, target_size) in enumerate(zip(result_sets, dataset_sizes)):\n",
    "        shortage = target_size - len(result_set)\n",
    "        if shortage > 0:\n",
    "            result_sets[i].extend(random.sample(all_items, shortage))\n",
    "\n",
    "    return result_sets\n"
   ]
  },
  {
   "cell_type": "code",
   "execution_count": 9,
   "metadata": {},
   "outputs": [
    {
     "name": "stdout",
     "output_type": "stream",
     "text": [
      "Counter({'中性': 5, '高兴': 3, '抱怨': 3, '生气': 3, '感激': 2, '焦急': 2, '惊讶': 2})\n",
      "Counter({'感激': 8, '中性': 7, '焦急': 7, '惊讶': 7, '高兴': 7, '抱怨': 7, '生气': 7})\n",
      "Counter({'中性': 16, '感激': 14, '焦急': 14, '惊讶': 14, '高兴': 14, '抱怨': 14, '生气': 14})\n"
     ]
    }
   ],
   "source": [
    "from collections import Counter\n",
    "\n",
    "train_set, test_set, sample_set = stratified_sample(all_dataset, \"label\", 20, 50, 100)\n",
    "for dataset in [train_set, test_set, sample_set]:\n",
    "    label_counts = Counter(item.get(\"label\") for item in dataset)\n",
    "    print(label_counts)"
   ]
  },
  {
   "cell_type": "code",
   "execution_count": null,
   "metadata": {},
   "outputs": [],
   "source": [
    "for ex in sample_set:\n",
    "    print(ex.get(\"label\"), ex.get(\"text\"))"
   ]
  },
  {
   "cell_type": "markdown",
   "metadata": {},
   "source": [
    "## base qa"
   ]
  },
  {
   "cell_type": "code",
   "execution_count": 13,
   "metadata": {},
   "outputs": [],
   "source": [
    "import os\n",
    "\n",
    "import dspy\n",
    "from dotenv import find_dotenv, load_dotenv\n",
    "\n",
    "load_dotenv(find_dotenv(), override=True)\n",
    "api_key = os.getenv(\"ONEAPI_API_KEY\")\n",
    "base_url = os.getenv(\"ONEAPI_BASE_URL\")\n",
    "\n",
    "# 测试要加 model_type ，不然因 model 不存在，会默认 text\n",
    "turbo = dspy.OpenAI(\n",
    "    api_key=api_key,\n",
    "    model=\"glm-4-flash\",\n",
    "    api_base=base_url,\n",
    "    model_type=\"chat\",\n",
    "    max_tokens=8000,\n",
    ")\n",
    "\n",
    "dspy.settings.configure(\n",
    "    lm=turbo,\n",
    ")"
   ]
  },
  {
   "cell_type": "code",
   "execution_count": 14,
   "metadata": {},
   "outputs": [],
   "source": [
    "import dspy\n",
    "from dsp import passages2text\n",
    "\n",
    "\n",
    "class BasicQA(dspy.Signature):\n",
    "    \"\"\"sentiment analysis from text\"\"\"\n",
    "\n",
    "    question = dspy.InputField(desc=\"list of input text\", format=passages2text)\n",
    "    answer = dspy.OutputField(\n",
    "        desc=\"question 中每一个输入`text`的情绪分类和评分(0-1.0),格式如 惊讶,0.7 抱怨,0.9 情绪分类包括 ['中性', '惊讶', '感激', '抱怨', '焦急', '生气', '高兴']\",\n",
    "        type=list,\n",
    "    )"
   ]
  },
  {
   "cell_type": "code",
   "execution_count": null,
   "metadata": {},
   "outputs": [],
   "source": [
    "# Define the predictor.\n",
    "generate_answer = dspy.Predict(BasicQA)\n",
    "\n",
    "samples = [x.text for x in sample_set[0:20]]\n",
    "# Call the predictor on a particular input.\n",
    "pred = generate_answer(question=samples)\n",
    "\n",
    "# Print the input and the prediction.\n",
    "print(f\"Question: {samples}\")\n",
    "print(f\"Predicted Answer:\\n{pred.answer}\")"
   ]
  }
 ],
 "metadata": {
  "kernelspec": {
   "display_name": "qa",
   "language": "python",
   "name": "python3"
  },
  "language_info": {
   "codemirror_mode": {
    "name": "ipython",
    "version": 3
   },
   "file_extension": ".py",
   "mimetype": "text/x-python",
   "name": "python",
   "nbconvert_exporter": "python",
   "pygments_lexer": "ipython3",
   "version": "3.10.12"
  }
 },
 "nbformat": 4,
 "nbformat_minor": 2
}
