{
 "cells": [
  {
   "cell_type": "markdown",
   "metadata": {},
   "source": [
    "## dataset\n",
    "\n",
    "https://dspy-docs.vercel.app/docs/building-blocks/data\n",
    "\n",
    "https://dspy-docs.vercel.app/docs/cheatsheet#dspy-dataloaders"
   ]
  },
  {
   "cell_type": "code",
   "execution_count": 11,
   "metadata": {},
   "outputs": [
    {
     "name": "stdout",
     "output_type": "stream",
     "text": [
      "['感激', '好的,那我谢谢您了。']\n"
     ]
    }
   ],
   "source": [
    "file_path = \"../.data/mix_model/data/all_raretrible.txt\"\n",
    "data = open(file_path, \"r\").read().split(\"\\n\")\n",
    "data = [x.strip().split(\",\") for x in data]\n",
    "data = [[x[0], \",\".join(x[1:])] for x in data]\n",
    "print(data[0])"
   ]
  },
  {
   "cell_type": "code",
   "execution_count": 16,
   "metadata": {},
   "outputs": [],
   "source": [
    "import pandas as pd\n",
    "\n",
    "# 转换 data 到 pandas DataFrame\n",
    "df = pd.DataFrame(data, columns=[\"label\", \"text\"])\n",
    "\n",
    "# 保存为 CSV 文件\n",
    "cvs_file = \"../.data/data.csv\"\n",
    "df.to_csv(cvs_file, index=False)"
   ]
  },
  {
   "cell_type": "code",
   "execution_count": 18,
   "metadata": {},
   "outputs": [
    {
     "name": "stdout",
     "output_type": "stream",
     "text": [
      "Example({'label': '感激', 'text': '好的,那我谢谢您了。'}) (input_keys={'text', 'label'})\n"
     ]
    }
   ],
   "source": [
    "from dspy.datasets import DataLoader\n",
    "\n",
    "# 创建 dspy.datasets 对象\n",
    "dl = DataLoader()\n",
    "dataset = dl.from_csv(cvs_file, fields=(\"label\", \"text\"), input_keys=(\"label\", \"text\"))\n",
    "print(dataset[0])"
   ]
  },
  {
   "cell_type": "code",
   "execution_count": 33,
   "metadata": {},
   "outputs": [],
   "source": [
    "splits = dl.train_test_split(dataset, train_size=20, test_size=50)\n",
    "train_dataset = splits[\"train\"]\n",
    "test_dataset = splits[\"test\"]"
   ]
  },
  {
   "cell_type": "code",
   "execution_count": 34,
   "metadata": {},
   "outputs": [
    {
     "name": "stdout",
     "output_type": "stream",
     "text": [
      "20 50\n",
      "Example({'label': '生气', 'text': '那里可以投诉你们'}) (input_keys={'text', 'label'})\n",
      "Example({'label': '生气', 'text': '麻痹,不服来干我操你邪祖奶奶的'}) (input_keys={'text', 'label'})\n"
     ]
    }
   ],
   "source": [
    "print(len(train_dataset), len(test_dataset))\n",
    "print(train_dataset[0])\n",
    "print(test_dataset[0])"
   ]
  },
  {
   "cell_type": "code",
   "execution_count": 35,
   "metadata": {},
   "outputs": [
    {
     "name": "stdout",
     "output_type": "stream",
     "text": [
      "5 Example({'label': '中性', 'text': '您好,我女儿的巧虎快到期了'}) (input_keys={'text', 'label'})\n"
     ]
    }
   ],
   "source": [
    "sampled_example = dl.sample(dataset, n=5)  # `dataset` is a List of dspy.Example\n",
    "print(len(sampled_example), sampled_example[0])"
   ]
  },
  {
   "cell_type": "code",
   "execution_count": 39,
   "metadata": {},
   "outputs": [],
   "source": [
    "import os\n",
    "\n",
    "import dspy\n",
    "from dotenv import find_dotenv, load_dotenv\n",
    "\n",
    "load_dotenv(find_dotenv(), override=True)\n",
    "api_key = os.getenv(\"ONEAPI_API_KEY\")\n",
    "base_url = os.getenv(\"ONEAPI_BASE_URL\")\n",
    "turbo = dspy.OpenAI(\n",
    "    api_key=api_key, model=\"glm-4-flash\", api_base=base_url, model_type=\"chat\"\n",
    ")\n",
    "\n",
    "dspy.settings.configure(\n",
    "    lm=turbo,\n",
    ")"
   ]
  },
  {
   "cell_type": "code",
   "execution_count": 51,
   "metadata": {},
   "outputs": [],
   "source": [
    "import dspy\n",
    "from dsp import passages2text\n",
    "\n",
    "\n",
    "class BasicQA(dspy.Signature):\n",
    "    \"\"\"sentiment analysis from text\"\"\"\n",
    "\n",
    "    question = dspy.InputField(desc=\"list of input text\", format=passages2text)\n",
    "    answer = dspy.OutputField(\n",
    "        desc=\"question 中第一个输入的情绪分析结果列表，包括 ['中性', '惊讶', '感激', '抱怨', '焦急', '生气', '高兴']\",\n",
    "        type=list,\n",
    "    )"
   ]
  },
  {
   "cell_type": "code",
   "execution_count": 52,
   "metadata": {},
   "outputs": [
    {
     "name": "stdout",
     "output_type": "stream",
     "text": [
      "Question: ['您好,我女儿的巧虎快到期了', '我看下都吓我一跳', '昂行吗谢谢了', '没有虚电我他妈闲着蛋疼', '我的账号怎么不在了']\n",
      "Predicted Answer: [1] ['中性']\n",
      "[2] ['惊讶']\n",
      "[3] ['感激']\n",
      "[4] ['生气']\n",
      "[5] ['焦急']\n"
     ]
    }
   ],
   "source": [
    "# Define the predictor.\n",
    "generate_answer = dspy.Predict(BasicQA)\n",
    "\n",
    "samples = [x.text for x in sampled_example]\n",
    "# Call the predictor on a particular input.\n",
    "pred = generate_answer(question=samples)\n",
    "\n",
    "# Print the input and the prediction.\n",
    "print(f\"Question: {samples}\")\n",
    "print(f\"Predicted Answer: {pred.answer}\")"
   ]
  },
  {
   "cell_type": "code",
   "execution_count": 53,
   "metadata": {},
   "outputs": [
    {
     "name": "stdout",
     "output_type": "stream",
     "text": [
      "\n",
      "\n",
      "\n",
      "sentiment analysis from text\n",
      "\n",
      "---\n",
      "\n",
      "Follow the following format.\n",
      "\n",
      "Question: list of input text\n",
      "Answer: question 中第一个输入的情绪分析结果列表，包括 ['中性', '惊讶', '感激', '抱怨', '焦急', '生气', '高兴']\n",
      "\n",
      "---\n",
      "\n",
      "Question:\n",
      "[1] «您好,我女儿的巧虎快到期了»\n",
      "[2] «我看下都吓我一跳»\n",
      "[3] «昂行吗谢谢了»\n",
      "[4] «没有虚电我他妈闲着蛋疼»\n",
      "[5] «我的账号怎么不在了»\n",
      "Answer:\u001b[32m [1] ['中性']\n",
      "[2] ['惊讶']\n",
      "[3] ['感激']\n",
      "[4] ['生气']\n",
      "[5] ['焦急']\u001b[0m\n",
      "\n",
      "\n",
      "\n"
     ]
    },
    {
     "data": {
      "text/plain": [
       "\"\\n\\n\\nsentiment analysis from text\\n\\n---\\n\\nFollow the following format.\\n\\nQuestion: list of input text\\nAnswer: question 中第一个输入的情绪分析结果列表，包括 ['中性', '惊讶', '感激', '抱怨', '焦急', '生气', '高兴']\\n\\n---\\n\\nQuestion:\\n[1] «您好,我女儿的巧虎快到期了»\\n[2] «我看下都吓我一跳»\\n[3] «昂行吗谢谢了»\\n[4] «没有虚电我他妈闲着蛋疼»\\n[5] «我的账号怎么不在了»\\nAnswer:\\x1b[32m [1] ['中性']\\n[2] ['惊讶']\\n[3] ['感激']\\n[4] ['生气']\\n[5] ['焦急']\\x1b[0m\\n\\n\\n\""
      ]
     },
     "execution_count": 53,
     "metadata": {},
     "output_type": "execute_result"
    }
   ],
   "source": [
    "turbo.inspect_history(n=1)"
   ]
  },
  {
   "cell_type": "code",
   "execution_count": 27,
   "metadata": {},
   "outputs": [],
   "source": [
    "generate_answer = dspy.ChainOfThought(BasicQA)\n",
    "\n",
    "# Call the predictor on a particular input alongside a hint.\n",
    "question = sampled_example[0].text\n",
    "pred = generate_answer(question=question)"
   ]
  },
  {
   "cell_type": "code",
   "execution_count": 29,
   "metadata": {},
   "outputs": [
    {
     "data": {
      "text/plain": [
       "'Question: 因为就是他骗的我\\nReasoning: Let\\'s think step by step in order to produce the answer. We need to analyze the sentiment of the text \"因为就是他骗的我\" by breaking down the meaning and emotional tone of the words and phrases used. 1. \"因为\" (yīn wèi) means \"because,\" which'"
      ]
     },
     "execution_count": 29,
     "metadata": {},
     "output_type": "execute_result"
    }
   ],
   "source": [
    "pred.answer"
   ]
  }
 ],
 "metadata": {
  "kernelspec": {
   "display_name": "qa",
   "language": "python",
   "name": "python3"
  },
  "language_info": {
   "codemirror_mode": {
    "name": "ipython",
    "version": 3
   },
   "file_extension": ".py",
   "mimetype": "text/x-python",
   "name": "python",
   "nbconvert_exporter": "python",
   "pygments_lexer": "ipython3",
   "version": "3.10.12"
  }
 },
 "nbformat": 4,
 "nbformat_minor": 2
}
